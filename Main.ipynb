{
 "cells": [
  {
   "cell_type": "code",
   "execution_count": 30,
   "metadata": {},
   "outputs": [],
   "source": [
    "\n",
    "import numpy as np\n",
    "import matplotlib.pyplot as plt\n",
    "from matplotlib.animation import FuncAnimation"
   ]
  },
  {
   "cell_type": "markdown",
   "metadata": {},
   "source": [
    "Membuat data x,y\n"
   ]
  },
  {
   "cell_type": "code",
   "execution_count": 31,
   "metadata": {},
   "outputs": [],
   "source": [
    "jumlah_data = 100\n",
    "\n",
    "y = np.array([i*0.1+np.random.randn() for i in range(jumlah_data)])\n",
    "x = np.array([i*0.1 for i in range(jumlah_data)])"
   ]
  },
  {
   "cell_type": "markdown",
   "metadata": {},
   "source": [
    "fungsi linear"
   ]
  },
  {
   "cell_type": "code",
   "execution_count": 32,
   "metadata": {},
   "outputs": [],
   "source": [
    "def ucup_linear(x,gradien):\n",
    "\ty = gradien*x\n",
    "\treturn y"
   ]
  },
  {
   "cell_type": "markdown",
   "metadata": {},
   "source": [
    "menghitung persamaan linear"
   ]
  },
  {
   "cell_type": "code",
   "execution_count": 33,
   "metadata": {},
   "outputs": [],
   "source": [
    "x_prediksi = np.array([0,10])\n",
    "m_awal = 5\n",
    "y_prediksi = ucup_linear(x_prediksi,m_awal)\n"
   ]
  },
  {
   "cell_type": "markdown",
   "metadata": {},
   "source": [
    "Menghitung Prediksi"
   ]
  },
  {
   "cell_type": "code",
   "execution_count": 35,
   "metadata": {},
   "outputs": [],
   "source": [
    "m_prediksi = m_awal\n",
    "m_list_prediksi = []\n",
    "y_list_prediksi = []\n",
    "x_list_prediksi = []\n",
    "learning_rate = 0.1\n",
    "for i in range(1,jumlah_data):\n",
    "\ty_prediksi = ucup_linear(x[i],m_prediksi)\n",
    "\ty_actual = y[i]\n",
    "\t\n",
    "\terror = y_actual - y_prediksi\n",
    "\tdelta_m = learning_rate*error/x[i]\n",
    "\tm_prediksi = m_prediksi + delta_m\n",
    "\n",
    "\tm_list_prediksi.append(m_prediksi)\n",
    "\ty_list_prediksi.append(ucup_linear(np.array([0,10]),m_prediksi))\n",
    "\tx_list_prediksi.append(np.array([0,10])) "
   ]
  },
  {
   "cell_type": "markdown",
   "metadata": {},
   "source": [
    "Visualisasi Prediksi"
   ]
  },
  {
   "cell_type": "code",
   "execution_count": 36,
   "metadata": {},
   "outputs": [
    {
     "data": {
      "image/png": "[encoded data removed]",
      "text/plain": [
       "<Figure size 288x288 with 1 Axes>"
      ]
     },
     "metadata": {
      "needs_background": "light"
     },
     "output_type": "display_data"
    }
   ],
   "source": [
    "fig = plt.figure(figsize=(4,4))\n",
    "line, = plt.plot([],[],\"Red\")\n",
    "\n",
    "def animate(frame_num):\n",
    "\tx = x_list_prediksi[frame_num]\n",
    "\ty = y_list_prediksi[frame_num]\n",
    "\tline.set_data((x,y))\n",
    "\treturn line\n",
    "\n",
    "plt.scatter(x,y)\n",
    "plt.axis([0,10,0,10])\n",
    "anim = FuncAnimation(fig,animate,frames=100,interval=100,repeat=False)\n",
    "plt.show()"
   ]
  },
  {
   "cell_type": "code",
   "execution_count": null,
   "metadata": {},
   "outputs": [],
   "source": []
  }
 ],
 "metadata": {
  "kernelspec": {
   "display_name": "Python 3.10.5 64-bit",
   "language": "python",
   "name": "python3"
  },
  "language_info": {
   "codemirror_mode": {
    "name": "ipython",
    "version": 3
   },
   "file_extension": ".py",
   "mimetype": "text/x-python",
   "name": "python",
   "nbconvert_exporter": "python",
   "pygments_lexer": "ipython3",
   "version": "3.10.5"
  },
  "orig_nbformat": 4,
  "vscode": {
   "interpreter": {
    "hash": "7c00cbc8a8177c233b7d1f63f80e17c9ea0e8f0f900d9a82d43c853d842a5209"
   }
  }
 },
 "nbformat": 4,
 "nbformat_minor": 2
}
